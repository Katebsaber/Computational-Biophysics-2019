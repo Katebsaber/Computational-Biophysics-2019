{
 "cells": [
  {
   "cell_type": "code",
   "execution_count": 33,
   "metadata": {},
   "outputs": [],
   "source": [
    "import numpy as np\n",
    "from matplotlib import pyplot as plt\n",
    "from glob import glob\n",
    "import pickle\n",
    "from operator import itemgetter"
   ]
  },
  {
   "cell_type": "code",
   "execution_count": 147,
   "metadata": {},
   "outputs": [
    {
     "name": "stdout",
     "output_type": "stream",
     "text": [
      "/home/kateb/Desktop/Computational-Biophysics-2019/monte carlo/data/e/0.6.pkl\n",
      "/home/kateb/Desktop/Computational-Biophysics-2019/monte carlo/data/e/1.9000000000000001.pkl\n",
      "/home/kateb/Desktop/Computational-Biophysics-2019/monte carlo/data/e/0.95.pkl\n",
      "/home/kateb/Desktop/Computational-Biophysics-2019/monte carlo/data/e/1.3.pkl\n",
      "/home/kateb/Desktop/Computational-Biophysics-2019/monte carlo/data/e/1.15.pkl\n",
      "/home/kateb/Desktop/Computational-Biophysics-2019/monte carlo/data/e/0.7.pkl\n",
      "/home/kateb/Desktop/Computational-Biophysics-2019/monte carlo/data/e/2.45.pkl\n",
      "/home/kateb/Desktop/Computational-Biophysics-2019/monte carlo/data/e/2.3.pkl\n",
      "/home/kateb/Desktop/Computational-Biophysics-2019/monte carlo/data/e/2.05.pkl\n",
      "/home/kateb/Desktop/Computational-Biophysics-2019/monte carlo/data/e/2.4000000000000004.pkl\n",
      "/home/kateb/Desktop/Computational-Biophysics-2019/monte carlo/data/e/1.4500000000000002.pkl\n",
      "/home/kateb/Desktop/Computational-Biophysics-2019/monte carlo/data/e/0.5.pkl\n",
      "/home/kateb/Desktop/Computational-Biophysics-2019/monte carlo/data/e/1.35.pkl\n",
      "/home/kateb/Desktop/Computational-Biophysics-2019/monte carlo/data/e/0.65.pkl\n",
      "/home/kateb/Desktop/Computational-Biophysics-2019/monte carlo/data/e/0.75.pkl\n",
      "/home/kateb/Desktop/Computational-Biophysics-2019/monte carlo/data/e/0.9.pkl\n",
      "/home/kateb/Desktop/Computational-Biophysics-2019/monte carlo/data/e/0.55.pkl\n",
      "/home/kateb/Desktop/Computational-Biophysics-2019/monte carlo/data/e/1.05.pkl\n",
      "/home/kateb/Desktop/Computational-Biophysics-2019/monte carlo/data/e/1.0.pkl\n",
      "/home/kateb/Desktop/Computational-Biophysics-2019/monte carlo/data/e/1.1.pkl\n",
      "/home/kateb/Desktop/Computational-Biophysics-2019/monte carlo/data/e/2.2.pkl\n",
      "/home/kateb/Desktop/Computational-Biophysics-2019/monte carlo/data/e/0.8.pkl\n",
      "/home/kateb/Desktop/Computational-Biophysics-2019/monte carlo/data/e/1.7000000000000002.pkl\n",
      "/home/kateb/Desktop/Computational-Biophysics-2019/monte carlo/data/e/1.5.pkl\n",
      "/home/kateb/Desktop/Computational-Biophysics-2019/monte carlo/data/e/1.2000000000000002.pkl\n",
      "/home/kateb/Desktop/Computational-Biophysics-2019/monte carlo/data/e/2.25.pkl\n",
      "/home/kateb/Desktop/Computational-Biophysics-2019/monte carlo/data/e/0.8500000000000001.pkl\n",
      "/home/kateb/Desktop/Computational-Biophysics-2019/monte carlo/data/e/2.0.pkl\n",
      "/home/kateb/Desktop/Computational-Biophysics-2019/monte carlo/data/e/1.4.pkl\n",
      "/home/kateb/Desktop/Computational-Biophysics-2019/monte carlo/data/e/1.6.pkl\n",
      "/home/kateb/Desktop/Computational-Biophysics-2019/monte carlo/data/e/2.1.pkl\n",
      "/home/kateb/Desktop/Computational-Biophysics-2019/monte carlo/data/e/1.75.pkl\n",
      "/home/kateb/Desktop/Computational-Biophysics-2019/monte carlo/data/e/2.1500000000000004.pkl\n",
      "/home/kateb/Desktop/Computational-Biophysics-2019/monte carlo/data/e/1.25.pkl\n",
      "/home/kateb/Desktop/Computational-Biophysics-2019/monte carlo/data/e/1.8.pkl\n",
      "/home/kateb/Desktop/Computational-Biophysics-2019/monte carlo/data/e/2.35.pkl\n",
      "/home/kateb/Desktop/Computational-Biophysics-2019/monte carlo/data/e/1.85.pkl\n",
      "/home/kateb/Desktop/Computational-Biophysics-2019/monte carlo/data/e/1.55.pkl\n",
      "/home/kateb/Desktop/Computational-Biophysics-2019/monte carlo/data/e/1.9500000000000002.pkl\n",
      "/home/kateb/Desktop/Computational-Biophysics-2019/monte carlo/data/e/1.6500000000000001.pkl\n"
     ]
    }
   ],
   "source": [
    "# list all saved files in directory\n",
    "directory_template = '/home/kateb/Desktop/Computational-Biophysics-2019/monte carlo/data/e/'\n",
    "list_of_pkl = glob(directory_template + '*.pkl')\n",
    "\n",
    "list_of_Cv_T = []\n",
    "for each_file in list_of_pkl:  \n",
    "    print(each_file)  \n",
    "    # open each file and convert to numpy array\n",
    "    with open(each_file,'rb') as f:\n",
    "        list_of_e = np.array(pickle.load(f))\n",
    "        # Find T based on the name of the file\n",
    "        T = float(each_file.split('/')[-1][:-4])\n",
    "    \n",
    "    list_of_e = list_of_e[400:]\n",
    "    Cv = 1/(T**2) * np.var(list_of_e)\n",
    "    list_of_Cv_T.append([Cv,T])"
   ]
  },
  {
   "cell_type": "code",
   "execution_count": 148,
   "metadata": {},
   "outputs": [
    {
     "data": {
      "text/plain": [
       "[[61.92826836787645, 0.5],\n",
       " [38.26016673221359, 0.55],\n",
       " [54.36748979986364, 0.6],\n",
       " [52.40651814133885, 0.65],\n",
       " [58.47457996659792, 0.7],\n",
       " [81.17467585102884, 0.75],\n",
       " [115.36621287506486, 0.8],\n",
       " [116.00517916853829, 0.8500000000000001],\n",
       " [126.6939273247587, 0.9],\n",
       " [205.7211969403861, 0.95],\n",
       " [215.52345776990936, 1.0],\n",
       " [121.48126183717282, 1.05],\n",
       " [319.1364152246132, 1.1],\n",
       " [257.1091578124181, 1.15],\n",
       " [179.71372634806286, 1.2000000000000002],\n",
       " [136.01311803668997, 1.25],\n",
       " [346.9052627700457, 1.3],\n",
       " [244.20444714764858, 1.35],\n",
       " [237.88071805139137, 1.4],\n",
       " [187.25838460879842, 1.4500000000000002],\n",
       " [135.16214740426454, 1.5],\n",
       " [146.43926541294675, 1.55],\n",
       " [117.25269756722932, 1.6],\n",
       " [114.27043101400916, 1.6500000000000001],\n",
       " [78.2063321345143, 1.7000000000000002],\n",
       " [75.05260423512524, 1.75],\n",
       " [108.29281353431004, 1.8],\n",
       " [57.4439191034236, 1.85],\n",
       " [53.15542659711005, 1.9000000000000001],\n",
       " [67.265914328909, 1.9500000000000002],\n",
       " [59.90070510668173, 2.0],\n",
       " [52.29569458948637, 2.05],\n",
       " [69.83743529462087, 2.1],\n",
       " [41.32724592447565, 2.1500000000000004],\n",
       " [36.649843936085055, 2.2],\n",
       " [31.881798630636172, 2.25],\n",
       " [39.08047104512265, 2.3],\n",
       " [38.98761748271695, 2.35],\n",
       " [29.274285312142823, 2.4000000000000004],\n",
       " [23.487278233237188, 2.45]]"
      ]
     },
     "execution_count": 148,
     "metadata": {},
     "output_type": "execute_result"
    }
   ],
   "source": [
    "list_of_Cv_T = sorted(list_of_Cv_T, key=itemgetter(1))\n",
    "list_of_Cv_T"
   ]
  },
  {
   "cell_type": "code",
   "execution_count": 155,
   "metadata": {},
   "outputs": [
    {
     "data": {
      "image/png": "[encoded data removed]",
      "text/plain": [
       "<Figure size 432x288 with 1 Axes>"
      ]
     },
     "metadata": {
      "needs_background": "light"
     },
     "output_type": "display_data"
    }
   ],
   "source": [
    "list_of_Cv_T = np.array(list_of_Cv_T)\n",
    "plt.plot(list_of_Cv_T[:,1],list_of_Cv_T[:,0], label='Cv')\n",
    "plt.legend(loc='upper left')\n",
    "plt.xlabel('Temperature')\n",
    "plt.ylabel('Cv')\n",
    "plt.show()"
   ]
  },
  {
   "cell_type": "code",
   "execution_count": null,
   "metadata": {},
   "outputs": [],
   "source": []
  },
  {
   "cell_type": "code",
   "execution_count": null,
   "metadata": {},
   "outputs": [],
   "source": []
  },
  {
   "cell_type": "code",
   "execution_count": null,
   "metadata": {},
   "outputs": [],
   "source": []
  }
 ],
 "metadata": {
  "kernelspec": {
   "display_name": "Python 3",
   "language": "python",
   "name": "python3"
  },
  "language_info": {
   "codemirror_mode": {
    "name": "ipython",
    "version": 3
   },
   "file_extension": ".py",
   "mimetype": "text/x-python",
   "name": "python",
   "nbconvert_exporter": "python",
   "pygments_lexer": "ipython3",
   "version": "3.7.3"
  }
 },
 "nbformat": 4,
 "nbformat_minor": 2
}
