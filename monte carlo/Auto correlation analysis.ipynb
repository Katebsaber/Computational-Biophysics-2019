{
 "cells": [
  {
   "cell_type": "code",
   "execution_count": 1,
   "metadata": {},
   "outputs": [],
   "source": [
    "import numpy as np\n",
    "from matplotlib import pyplot as plt\n",
    "from glob import glob\n",
    "import pickle\n",
    "from operator import itemgetter"
   ]
  },
  {
   "cell_type": "code",
   "execution_count": 2,
   "metadata": {},
   "outputs": [],
   "source": [
    "# list all saved files in directory\n",
    "directory_template = 'data/box/'\n",
    "list_of_pkl = glob(directory_template + '*.pkl')"
   ]
  },
  {
   "cell_type": "code",
   "execution_count": 3,
   "metadata": {},
   "outputs": [],
   "source": [
    "def calc_ac(x,n,r):\n",
    "    left = np.roll(x,r,axis=1)\n",
    "    right = np.roll(x,-r,axis=1)\n",
    "    up = np.roll(x,r,axis=0)\n",
    "    down = np.roll(x,-r,axis=0)\n",
    "    left_up=np.roll(np.roll(x,r,axis=1),1,axis=0)\n",
    "    left_down = np.roll(np.roll(x,r,axis=1),-r,axis=0)\n",
    "    right_up = np.roll(np.roll(x,-r,axis=1),r,axis=0)\n",
    "    right_down = np.roll(np.roll(x,-r,axis=1),-r,axis=0)\n",
    "    \n",
    "    e = (1/n) * (1/16) * sum(sum(x * (left + right + up + down + left_down + left_up + right_down + right_up)))\n",
    "    return e"
   ]
  },
  {
   "cell_type": "code",
   "execution_count": 4,
   "metadata": {},
   "outputs": [],
   "source": [
    "list_of_ac_all_box = []\n",
    "for each_box in list_of_pkl:\n",
    "    # open each file and convert to numpy array\n",
    "    with open(each_box,'rb') as f:\n",
    "        box = np.array(pickle.load(f))\n",
    "\n",
    "    for i in range(1,len(box)):\n",
    "        if calc_ac(box,150,i) <= 0.37:\n",
    "            list_of_ac_all_box.append(i)\n",
    "            break"
   ]
  },
  {
   "cell_type": "code",
   "execution_count": 5,
   "metadata": {},
   "outputs": [
    {
     "data": {
      "image/png": "[encoded data removed]",
      "text/plain": [
       "<Figure size 432x288 with 1 Axes>"
      ]
     },
     "metadata": {
      "needs_background": "light"
     },
     "output_type": "display_data"
    }
   ],
   "source": [
    "plt.plot(list_of_ac_all_box)\n",
    "plt.show()"
   ]
  },
  {
   "cell_type": "code",
   "execution_count": null,
   "metadata": {},
   "outputs": [],
   "source": []
  }
 ],
 "metadata": {
  "kernelspec": {
   "display_name": "Python 3",
   "language": "python",
   "name": "python3"
  },
  "language_info": {
   "codemirror_mode": {
    "name": "ipython",
    "version": 3
   },
   "file_extension": ".py",
   "mimetype": "text/x-python",
   "name": "python",
   "nbconvert_exporter": "python",
   "pygments_lexer": "ipython3",
   "version": "3.7.3"
  }
 },
 "nbformat": 4,
 "nbformat_minor": 2
}
